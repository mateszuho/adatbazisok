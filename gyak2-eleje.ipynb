{
    "metadata": {
        "kernelspec": {
            "name": "SQL",
            "display_name": "SQL",
            "language": "sql"
        },
        "language_info": {
            "name": "sql",
            "version": ""
        }
    },
    "nbformat_minor": 2,
    "nbformat": 4,
    "cells": [
        {
            "cell_type": "code",
            "source": [
                "SELECT USERNEV, NEV, UPPER((LEFT(NEV,1) + RIGHT(NEV,1))) AS 'monogram'\r\n",
                "FROM VENDEG\r\n",
                "WHERE EMAIL LIKE '%.hu'"
            ],
            "metadata": {
                "azdata_cell_guid": "a09da16a-8696-4438-8d87-13ce341bfaaf",
                "language": "sql"
            },
            "outputs": [
                {
                    "output_type": "display_data",
                    "data": {
                        "text/html": "(107 rows affected)"
                    },
                    "metadata": {}
                },
                {
                    "output_type": "display_data",
                    "data": {
                        "text/html": "Total execution time: 00:00:00.075"
                    },
                    "metadata": {}
                },
                {
                    "output_type": "execute_result",
                    "metadata": {},
                    "execution_count": 7,
                    "data": {
                        "application/vnd.dataresource+json": {
                            "schema": {
                                "fields": [
                                    {
                                        "name": "USERNEV"
                                    },
                                    {
                                        "name": "NEV"
                                    },
                                    {
                                        "name": "monogram"
                                    }
                                ]
                            },
                            "data": [
                                {
                                    "USERNEV": "adam1",
                                    "NEV": "Kiss Ádám",
                                    "monogram": "KM"
                                },
                                {
                                    "USERNEV": "adam4",
                                    "NEV": "Bieniek Ádám",
                                    "monogram": "BM"
                                },
                                {
                                    "USERNEV": "akos",
                                    "NEV": "Bíró Ákos",
                                    "monogram": "BS"
                                },
                                {
                                    "USERNEV": "aladar",
                                    "NEV": "Dunai Aladár",
                                    "monogram": "DR"
                                },
                                {
                                    "USERNEV": "alexandra",
                                    "NEV": "Bagóczki Alexandra",
                                    "monogram": "BA"
                                },
                                {
                                    "USERNEV": "andi",
                                    "NEV": "Maródi Andrea",
                                    "monogram": "MA"
                                },
                                {
                                    "USERNEV": "andras2",
                                    "NEV": "Tóth András",
                                    "monogram": "TS"
                                },
                                {
                                    "USERNEV": "andras21",
                                    "NEV": "Molnár András",
                                    "monogram": "MS"
                                },
                                {
                                    "USERNEV": "andras3",
                                    "NEV": "Vígh András",
                                    "monogram": "VS"
                                },
                                {
                                    "USERNEV": "ANDRASN",
                                    "NEV": "Nagy András",
                                    "monogram": "NS"
                                },
                                {
                                    "USERNEV": "andrea",
                                    "NEV": "Kiss Andrea",
                                    "monogram": "KA"
                                },
                                {
                                    "USERNEV": "anett3",
                                    "NEV": "Pivarcsi Anett",
                                    "monogram": "PT"
                                },
                                {
                                    "USERNEV": "anita",
                                    "NEV": "Hamvay-Kovács Anita",
                                    "monogram": "HA"
                                },
                                {
                                    "USERNEV": "annamaria1",
                                    "NEV": "Szűcs Annamária",
                                    "monogram": "SA"
                                },
                                {
                                    "USERNEV": "ARONK",
                                    "NEV": "Kelemen Áron",
                                    "monogram": "KN"
                                },
                                {
                                    "USERNEV": "arpad2",
                                    "NEV": "Ötvös Árpád",
                                    "monogram": "ÖD"
                                },
                                {
                                    "USERNEV": "ARPADH",
                                    "NEV": "Horváth Árpád",
                                    "monogram": "HD"
                                },
                                {
                                    "USERNEV": "ARPADM",
                                    "NEV": "Móricz Árpád",
                                    "monogram": "MD"
                                },
                                {
                                    "USERNEV": "attila1",
                                    "NEV": "Gulyás Attila",
                                    "monogram": "GA"
                                },
                                {
                                    "USERNEV": "attila4",
                                    "NEV": "Baróti Attila",
                                    "monogram": "BA"
                                },
                                {
                                    "USERNEV": "balazs1",
                                    "NEV": "Bozsik Balázs",
                                    "monogram": "BS"
                                },
                                {
                                    "USERNEV": "balazs2",
                                    "NEV": "Szűcs Balázs",
                                    "monogram": "SS"
                                },
                                {
                                    "USERNEV": "balu",
                                    "NEV": "Endresz Bálint",
                                    "monogram": "ET"
                                },
                                {
                                    "USERNEV": "beata4",
                                    "NEV": "Bagi Beáta",
                                    "monogram": "BA"
                                },
                                {
                                    "USERNEV": "BEATRIXK",
                                    "NEV": "Kerényi Beatrix",
                                    "monogram": "KX"
                                },
                                {
                                    "USERNEV": "BEATRIXS",
                                    "NEV": "Szekendi Beatrix",
                                    "monogram": "SX"
                                },
                                {
                                    "USERNEV": "BENCEB",
                                    "NEV": "Bajusz Bence",
                                    "monogram": "BE"
                                },
                                {
                                    "USERNEV": "bernadett2",
                                    "NEV": "Kovács Bernadett",
                                    "monogram": "KT"
                                },
                                {
                                    "USERNEV": "BERNADETTO",
                                    "NEV": "Orbán Bernadett",
                                    "monogram": "OT"
                                },
                                {
                                    "USERNEV": "brigitta",
                                    "NEV": "Székely Brigitta",
                                    "monogram": "SA"
                                },
                                {
                                    "USERNEV": "brigitta3",
                                    "NEV": "Pataki Brigitta",
                                    "monogram": "PA"
                                },
                                {
                                    "USERNEV": "csongor3",
                                    "NEV": "Nagymihály Csongor",
                                    "monogram": "NR"
                                },
                                {
                                    "USERNEV": "daniel",
                                    "NEV": "Rácz Dániel",
                                    "monogram": "RL"
                                },
                                {
                                    "USERNEV": "daniel1",
                                    "NEV": "Keszler Dániel",
                                    "monogram": "KL"
                                },
                                {
                                    "USERNEV": "debora",
                                    "NEV": "Barna Debóra",
                                    "monogram": "BA"
                                },
                                {
                                    "USERNEV": "dora3",
                                    "NEV": "Sarodi Dóra",
                                    "monogram": "SA"
                                },
                                {
                                    "USERNEV": "edit",
                                    "NEV": "Bittmann Edit",
                                    "monogram": "BT"
                                },
                                {
                                    "USERNEV": "emese",
                                    "NEV": "Kuruc Emese",
                                    "monogram": "KE"
                                },
                                {
                                    "USERNEV": "eszter",
                                    "NEV": "Molnár Eszter",
                                    "monogram": "MR"
                                },
                                {
                                    "USERNEV": "eszter2",
                                    "NEV": "Balogh Eszter",
                                    "monogram": "BR"
                                },
                                {
                                    "USERNEV": "eszter4",
                                    "NEV": "Fülöp Eszter",
                                    "monogram": "FR"
                                },
                                {
                                    "USERNEV": "ESZTERE",
                                    "NEV": "Érsek Eszter",
                                    "monogram": "ÉR"
                                },
                                {
                                    "USERNEV": "ferenc1",
                                    "NEV": "Orosz Ferenc",
                                    "monogram": "OC"
                                },
                                {
                                    "USERNEV": "gabor4",
                                    "NEV": "Telek Gábor",
                                    "monogram": "TR"
                                },
                                {
                                    "USERNEV": "georgij",
                                    "NEV": "Nyíri Georgij",
                                    "monogram": "NJ"
                                },
                                {
                                    "USERNEV": "GYONGYIK",
                                    "NEV": "Kornseé Gyöngyi",
                                    "monogram": "KI"
                                },
                                {
                                    "USERNEV": "henrik3",
                                    "NEV": "Nádudvari Henrik",
                                    "monogram": "NK"
                                },
                                {
                                    "USERNEV": "IBOLYAA",
                                    "NEV": "Andor Ibolya",
                                    "monogram": "AA"
                                },
                                {
                                    "USERNEV": "imre",
                                    "NEV": "Búza Imre",
                                    "monogram": "BE"
                                },
                                {
                                    "USERNEV": "imre1",
                                    "NEV": "Papp Imre",
                                    "monogram": "PE"
                                },
                                {
                                    "USERNEV": "istvan1",
                                    "NEV": "Vizi István",
                                    "monogram": "VN"
                                },
                                {
                                    "USERNEV": "jozsef2",
                                    "NEV": "Vajda József",
                                    "monogram": "VF"
                                },
                                {
                                    "USERNEV": "JOZSEFG",
                                    "NEV": "Gyuris József",
                                    "monogram": "GF"
                                },
                                {
                                    "USERNEV": "kata",
                                    "NEV": "Gondos Katalin",
                                    "monogram": "GN"
                                },
                                {
                                    "USERNEV": "katalin",
                                    "NEV": "Horváth Katalin",
                                    "monogram": "HN"
                                },
                                {
                                    "USERNEV": "kati",
                                    "NEV": "Zatykó Katalin",
                                    "monogram": "ZN"
                                },
                                {
                                    "USERNEV": "katka",
                                    "NEV": "Kovács Katalin",
                                    "monogram": "KN"
                                },
                                {
                                    "USERNEV": "klaudia2",
                                    "NEV": "Bakó Klaudia",
                                    "monogram": "BA"
                                },
                                {
                                    "USERNEV": "kornel4",
                                    "NEV": "Lukács Kornél",
                                    "monogram": "LL"
                                },
                                {
                                    "USERNEV": "krisztian4",
                                    "NEV": "Czérna Krisztián",
                                    "monogram": "CN"
                                },
                                {
                                    "USERNEV": "krisztina1",
                                    "NEV": "Bori Krisztina",
                                    "monogram": "BA"
                                },
                                {
                                    "USERNEV": "lajos",
                                    "NEV": "Kiss Lajos",
                                    "monogram": "KS"
                                },
                                {
                                    "USERNEV": "lala",
                                    "NEV": "Nagymihály Lajos",
                                    "monogram": "NS"
                                },
                                {
                                    "USERNEV": "laszlo1",
                                    "NEV": "Farkas László",
                                    "monogram": "FÓ"
                                },
                                {
                                    "USERNEV": "laszlo2",
                                    "NEV": "Móra László",
                                    "monogram": "MÓ"
                                },
                                {
                                    "USERNEV": "LASZLOA",
                                    "NEV": "Antal László",
                                    "monogram": "AÓ"
                                },
                                {
                                    "USERNEV": "LASZLON",
                                    "NEV": "Nagy László",
                                    "monogram": "NÓ"
                                },
                                {
                                    "USERNEV": "maria1",
                                    "NEV": "Baráth Mária",
                                    "monogram": "BA"
                                },
                                {
                                    "USERNEV": "mark",
                                    "NEV": "Kispál Márk",
                                    "monogram": "KK"
                                },
                                {
                                    "USERNEV": "MARKH",
                                    "NEV": "Horváth Márk",
                                    "monogram": "HK"
                                },
                                {
                                    "USERNEV": "MATEK",
                                    "NEV": "Koza Máté",
                                    "monogram": "KÉ"
                                },
                                {
                                    "USERNEV": "MATYASS",
                                    "NEV": "Szilágyi Mátyás",
                                    "monogram": "SS"
                                },
                                {
                                    "USERNEV": "MIHALYJ",
                                    "NEV": "Juhász Mihály",
                                    "monogram": "JY"
                                },
                                {
                                    "USERNEV": "MIKLOSB",
                                    "NEV": "Balla Miklós",
                                    "monogram": "BS"
                                },
                                {
                                    "USERNEV": "MONIKAM",
                                    "NEV": "Mohos Mónika",
                                    "monogram": "MA"
                                },
                                {
                                    "USERNEV": "NANDORF",
                                    "NEV": "Fő Nándor",
                                    "monogram": "FR"
                                },
                                {
                                    "USERNEV": "NIKOLETTAT",
                                    "NEV": "Tatár Nikoletta",
                                    "monogram": "TA"
                                },
                                {
                                    "USERNEV": "norbert2",
                                    "NEV": "Hegedűs Norbert",
                                    "monogram": "HT"
                                },
                                {
                                    "USERNEV": "pal",
                                    "NEV": "Barabás Pál",
                                    "monogram": "BL"
                                },
                                {
                                    "USERNEV": "peter4",
                                    "NEV": "Bíró Péter",
                                    "monogram": "BR"
                                },
                                {
                                    "USERNEV": "PETERB",
                                    "NEV": "Berendi Péter",
                                    "monogram": "BR"
                                },
                                {
                                    "USERNEV": "rajmond4",
                                    "NEV": "Rácz Rajmond",
                                    "monogram": "RD"
                                },
                                {
                                    "USERNEV": "reka4",
                                    "NEV": "Szikszai Réka",
                                    "monogram": "SA"
                                },
                                {
                                    "USERNEV": "RENATAK",
                                    "NEV": "Kardos Renáta",
                                    "monogram": "KA"
                                },
                                {
                                    "USERNEV": "ROBERTI",
                                    "NEV": "Iván Róbert",
                                    "monogram": "IT"
                                },
                                {
                                    "USERNEV": "roland1",
                                    "NEV": "Ferencz Roland",
                                    "monogram": "FD"
                                },
                                {
                                    "USERNEV": "sandor3",
                                    "NEV": "Farkas Sándor",
                                    "monogram": "FR"
                                },
                                {
                                    "USERNEV": "sara",
                                    "NEV": "Farkas Sára",
                                    "monogram": "FA"
                                },
                                {
                                    "USERNEV": "szabolcs",
                                    "NEV": "Bodor Szabolcs",
                                    "monogram": "BS"
                                },
                                {
                                    "USERNEV": "SZABOLCSM",
                                    "NEV": "Miklós Szabolcs",
                                    "monogram": "MS"
                                },
                                {
                                    "USERNEV": "SZILARDS",
                                    "NEV": "Szalai Szilárd",
                                    "monogram": "SD"
                                },
                                {
                                    "USERNEV": "szilvia1",
                                    "NEV": "Tari Szilvia",
                                    "monogram": "TA"
                                },
                                {
                                    "USERNEV": "tamara2",
                                    "NEV": "Miklós Tamara",
                                    "monogram": "MA"
                                },
                                {
                                    "USERNEV": "tamas",
                                    "NEV": "Antal Tamás",
                                    "monogram": "AS"
                                },
                                {
                                    "USERNEV": "tibor",
                                    "NEV": "Gombos Tibor",
                                    "monogram": "GR"
                                },
                                {
                                    "USERNEV": "tihamer",
                                    "NEV": "Kazy Tihamér",
                                    "monogram": "KR"
                                },
                                {
                                    "USERNEV": "timea2",
                                    "NEV": "Dusha Tímea",
                                    "monogram": "DA"
                                },
                                {
                                    "USERNEV": "valentin",
                                    "NEV": "Feró Valentin",
                                    "monogram": "FN"
                                },
                                {
                                    "USERNEV": "VIKTORIAU",
                                    "NEV": "Urbán Viktoria",
                                    "monogram": "UA"
                                },
                                {
                                    "USERNEV": "VIKTORK",
                                    "NEV": "Keresztúri Viktor",
                                    "monogram": "KR"
                                },
                                {
                                    "USERNEV": "zoltan",
                                    "NEV": "Fodor Zoltán",
                                    "monogram": "FN"
                                },
                                {
                                    "USERNEV": "ZOLTANP",
                                    "NEV": "Pintér Zoltán",
                                    "monogram": "PN"
                                },
                                {
                                    "USERNEV": "ZOLTANT",
                                    "NEV": "Tóth Zoltán",
                                    "monogram": "TN"
                                },
                                {
                                    "USERNEV": "zsolt1",
                                    "NEV": "Pulai Zsolt",
                                    "monogram": "PT"
                                },
                                {
                                    "USERNEV": "zsuzsa3",
                                    "NEV": "Varsányi Zsuzsa",
                                    "monogram": "VA"
                                },
                                {
                                    "USERNEV": "zsuzsanna",
                                    "NEV": "Barta Zsuzsanna",
                                    "monogram": "BA"
                                },
                                {
                                    "USERNEV": "ZSUZSAV",
                                    "NEV": "Vajda Zsuzsa",
                                    "monogram": "VA"
                                }
                            ]
                        },
                        "text/html": [
                            "<table>",
                            "<tr><th>USERNEV</th><th>NEV</th><th>monogram</th></tr>",
                            "<tr><td>adam1</td><td>Kiss Ádám</td><td>KM</td></tr>",
                            "<tr><td>adam4</td><td>Bieniek Ádám</td><td>BM</td></tr>",
                            "<tr><td>akos</td><td>Bíró Ákos</td><td>BS</td></tr>",
                            "<tr><td>aladar</td><td>Dunai Aladár</td><td>DR</td></tr>",
                            "<tr><td>alexandra</td><td>Bagóczki Alexandra</td><td>BA</td></tr>",
                            "<tr><td>andi</td><td>Maródi Andrea</td><td>MA</td></tr>",
                            "<tr><td>andras2</td><td>Tóth András</td><td>TS</td></tr>",
                            "<tr><td>andras21</td><td>Molnár András</td><td>MS</td></tr>",
                            "<tr><td>andras3</td><td>Vígh András</td><td>VS</td></tr>",
                            "<tr><td>ANDRASN</td><td>Nagy András</td><td>NS</td></tr>",
                            "<tr><td>andrea</td><td>Kiss Andrea</td><td>KA</td></tr>",
                            "<tr><td>anett3</td><td>Pivarcsi Anett</td><td>PT</td></tr>",
                            "<tr><td>anita</td><td>Hamvay-Kovács Anita</td><td>HA</td></tr>",
                            "<tr><td>annamaria1</td><td>Szűcs Annamária</td><td>SA</td></tr>",
                            "<tr><td>ARONK</td><td>Kelemen Áron</td><td>KN</td></tr>",
                            "<tr><td>arpad2</td><td>Ötvös Árpád</td><td>ÖD</td></tr>",
                            "<tr><td>ARPADH</td><td>Horváth Árpád</td><td>HD</td></tr>",
                            "<tr><td>ARPADM</td><td>Móricz Árpád</td><td>MD</td></tr>",
                            "<tr><td>attila1</td><td>Gulyás Attila</td><td>GA</td></tr>",
                            "<tr><td>attila4</td><td>Baróti Attila</td><td>BA</td></tr>",
                            "<tr><td>balazs1</td><td>Bozsik Balázs</td><td>BS</td></tr>",
                            "<tr><td>balazs2</td><td>Szűcs Balázs</td><td>SS</td></tr>",
                            "<tr><td>balu</td><td>Endresz Bálint</td><td>ET</td></tr>",
                            "<tr><td>beata4</td><td>Bagi Beáta</td><td>BA</td></tr>",
                            "<tr><td>BEATRIXK</td><td>Kerényi Beatrix</td><td>KX</td></tr>",
                            "<tr><td>BEATRIXS</td><td>Szekendi Beatrix</td><td>SX</td></tr>",
                            "<tr><td>BENCEB</td><td>Bajusz Bence</td><td>BE</td></tr>",
                            "<tr><td>bernadett2</td><td>Kovács Bernadett</td><td>KT</td></tr>",
                            "<tr><td>BERNADETTO</td><td>Orbán Bernadett</td><td>OT</td></tr>",
                            "<tr><td>brigitta</td><td>Székely Brigitta</td><td>SA</td></tr>",
                            "<tr><td>brigitta3</td><td>Pataki Brigitta</td><td>PA</td></tr>",
                            "<tr><td>csongor3</td><td>Nagymihály Csongor</td><td>NR</td></tr>",
                            "<tr><td>daniel</td><td>Rácz Dániel</td><td>RL</td></tr>",
                            "<tr><td>daniel1</td><td>Keszler Dániel</td><td>KL</td></tr>",
                            "<tr><td>debora</td><td>Barna Debóra</td><td>BA</td></tr>",
                            "<tr><td>dora3</td><td>Sarodi Dóra</td><td>SA</td></tr>",
                            "<tr><td>edit</td><td>Bittmann Edit</td><td>BT</td></tr>",
                            "<tr><td>emese</td><td>Kuruc Emese</td><td>KE</td></tr>",
                            "<tr><td>eszter</td><td>Molnár Eszter</td><td>MR</td></tr>",
                            "<tr><td>eszter2</td><td>Balogh Eszter</td><td>BR</td></tr>",
                            "<tr><td>eszter4</td><td>Fülöp Eszter</td><td>FR</td></tr>",
                            "<tr><td>ESZTERE</td><td>Érsek Eszter</td><td>ÉR</td></tr>",
                            "<tr><td>ferenc1</td><td>Orosz Ferenc</td><td>OC</td></tr>",
                            "<tr><td>gabor4</td><td>Telek Gábor</td><td>TR</td></tr>",
                            "<tr><td>georgij</td><td>Nyíri Georgij</td><td>NJ</td></tr>",
                            "<tr><td>GYONGYIK</td><td>Kornseé Gyöngyi</td><td>KI</td></tr>",
                            "<tr><td>henrik3</td><td>Nádudvari Henrik</td><td>NK</td></tr>",
                            "<tr><td>IBOLYAA</td><td>Andor Ibolya</td><td>AA</td></tr>",
                            "<tr><td>imre</td><td>Búza Imre</td><td>BE</td></tr>",
                            "<tr><td>imre1</td><td>Papp Imre</td><td>PE</td></tr>",
                            "<tr><td>istvan1</td><td>Vizi István</td><td>VN</td></tr>",
                            "<tr><td>jozsef2</td><td>Vajda József</td><td>VF</td></tr>",
                            "<tr><td>JOZSEFG</td><td>Gyuris József</td><td>GF</td></tr>",
                            "<tr><td>kata</td><td>Gondos Katalin</td><td>GN</td></tr>",
                            "<tr><td>katalin</td><td>Horváth Katalin</td><td>HN</td></tr>",
                            "<tr><td>kati</td><td>Zatykó Katalin</td><td>ZN</td></tr>",
                            "<tr><td>katka</td><td>Kovács Katalin</td><td>KN</td></tr>",
                            "<tr><td>klaudia2</td><td>Bakó Klaudia</td><td>BA</td></tr>",
                            "<tr><td>kornel4</td><td>Lukács Kornél</td><td>LL</td></tr>",
                            "<tr><td>krisztian4</td><td>Czérna Krisztián</td><td>CN</td></tr>",
                            "<tr><td>krisztina1</td><td>Bori Krisztina</td><td>BA</td></tr>",
                            "<tr><td>lajos</td><td>Kiss Lajos</td><td>KS</td></tr>",
                            "<tr><td>lala</td><td>Nagymihály Lajos</td><td>NS</td></tr>",
                            "<tr><td>laszlo1</td><td>Farkas László</td><td>FÓ</td></tr>",
                            "<tr><td>laszlo2</td><td>Móra László</td><td>MÓ</td></tr>",
                            "<tr><td>LASZLOA</td><td>Antal László</td><td>AÓ</td></tr>",
                            "<tr><td>LASZLON</td><td>Nagy László</td><td>NÓ</td></tr>",
                            "<tr><td>maria1</td><td>Baráth Mária</td><td>BA</td></tr>",
                            "<tr><td>mark</td><td>Kispál Márk</td><td>KK</td></tr>",
                            "<tr><td>MARKH</td><td>Horváth Márk</td><td>HK</td></tr>",
                            "<tr><td>MATEK</td><td>Koza Máté</td><td>KÉ</td></tr>",
                            "<tr><td>MATYASS</td><td>Szilágyi Mátyás</td><td>SS</td></tr>",
                            "<tr><td>MIHALYJ</td><td>Juhász Mihály</td><td>JY</td></tr>",
                            "<tr><td>MIKLOSB</td><td>Balla Miklós</td><td>BS</td></tr>",
                            "<tr><td>MONIKAM</td><td>Mohos Mónika</td><td>MA</td></tr>",
                            "<tr><td>NANDORF</td><td>Fő Nándor</td><td>FR</td></tr>",
                            "<tr><td>NIKOLETTAT</td><td>Tatár Nikoletta</td><td>TA</td></tr>",
                            "<tr><td>norbert2</td><td>Hegedűs Norbert</td><td>HT</td></tr>",
                            "<tr><td>pal</td><td>Barabás Pál</td><td>BL</td></tr>",
                            "<tr><td>peter4</td><td>Bíró Péter</td><td>BR</td></tr>",
                            "<tr><td>PETERB</td><td>Berendi Péter</td><td>BR</td></tr>",
                            "<tr><td>rajmond4</td><td>Rácz Rajmond</td><td>RD</td></tr>",
                            "<tr><td>reka4</td><td>Szikszai Réka</td><td>SA</td></tr>",
                            "<tr><td>RENATAK</td><td>Kardos Renáta</td><td>KA</td></tr>",
                            "<tr><td>ROBERTI</td><td>Iván Róbert</td><td>IT</td></tr>",
                            "<tr><td>roland1</td><td>Ferencz Roland</td><td>FD</td></tr>",
                            "<tr><td>sandor3</td><td>Farkas Sándor</td><td>FR</td></tr>",
                            "<tr><td>sara</td><td>Farkas Sára</td><td>FA</td></tr>",
                            "<tr><td>szabolcs</td><td>Bodor Szabolcs</td><td>BS</td></tr>",
                            "<tr><td>SZABOLCSM</td><td>Miklós Szabolcs</td><td>MS</td></tr>",
                            "<tr><td>SZILARDS</td><td>Szalai Szilárd</td><td>SD</td></tr>",
                            "<tr><td>szilvia1</td><td>Tari Szilvia</td><td>TA</td></tr>",
                            "<tr><td>tamara2</td><td>Miklós Tamara</td><td>MA</td></tr>",
                            "<tr><td>tamas</td><td>Antal Tamás</td><td>AS</td></tr>",
                            "<tr><td>tibor</td><td>Gombos Tibor</td><td>GR</td></tr>",
                            "<tr><td>tihamer</td><td>Kazy Tihamér</td><td>KR</td></tr>",
                            "<tr><td>timea2</td><td>Dusha Tímea</td><td>DA</td></tr>",
                            "<tr><td>valentin</td><td>Feró Valentin</td><td>FN</td></tr>",
                            "<tr><td>VIKTORIAU</td><td>Urbán Viktoria</td><td>UA</td></tr>",
                            "<tr><td>VIKTORK</td><td>Keresztúri Viktor</td><td>KR</td></tr>",
                            "<tr><td>zoltan</td><td>Fodor Zoltán</td><td>FN</td></tr>",
                            "<tr><td>ZOLTANP</td><td>Pintér Zoltán</td><td>PN</td></tr>",
                            "<tr><td>ZOLTANT</td><td>Tóth Zoltán</td><td>TN</td></tr>",
                            "<tr><td>zsolt1</td><td>Pulai Zsolt</td><td>PT</td></tr>",
                            "<tr><td>zsuzsa3</td><td>Varsányi Zsuzsa</td><td>VA</td></tr>",
                            "<tr><td>zsuzsanna</td><td>Barta Zsuzsanna</td><td>BA</td></tr>",
                            "<tr><td>ZSUZSAV</td><td>Vajda Zsuzsa</td><td>VA</td></tr>",
                            "</table>"
                        ]
                    }
                }
            ],
            "execution_count": 7
        },
        {
            "cell_type": "code",
            "source": [
                "SELECT SZALLAS_ID, SZALLAS_NEV, HELY, DATEDIFF(day, ROGZ_IDO, GETDATE()) AS 'Eltelt napok száma'\r\n",
                "FROM szallashely\r\n",
                "WHERE TIPUS <> 'panzió' AND TIPUS <> 'vendégház' --TIPUS NOT IN ('panzió', 'vendégház')"
            ],
            "metadata": {
                "azdata_cell_guid": "c39e5f75-893e-4a3a-af1b-6bb1fc494a19",
                "language": "sql"
            },
            "outputs": [
                {
                    "output_type": "display_data",
                    "data": {
                        "text/html": "(10 rows affected)"
                    },
                    "metadata": {}
                },
                {
                    "output_type": "display_data",
                    "data": {
                        "text/html": "Total execution time: 00:00:00.008"
                    },
                    "metadata": {}
                },
                {
                    "output_type": "execute_result",
                    "metadata": {},
                    "execution_count": 15,
                    "data": {
                        "application/vnd.dataresource+json": {
                            "schema": {
                                "fields": [
                                    {
                                        "name": "SZALLAS_ID"
                                    },
                                    {
                                        "name": "SZALLAS_NEV"
                                    },
                                    {
                                        "name": "HELY"
                                    },
                                    {
                                        "name": "Eltelt napok száma"
                                    }
                                ]
                            },
                            "data": [
                                {
                                    "SZALLAS_ID": "3",
                                    "SZALLAS_NEV": "Fortuna Apartman",
                                    "HELY": "Hajdúbihar megye",
                                    "Eltelt napok száma": "3278"
                                },
                                {
                                    "SZALLAS_ID": "6",
                                    "SZALLAS_NEV": "Kentaur Hotel",
                                    "HELY": "Balaton-dél",
                                    "Eltelt napok száma": "3276"
                                },
                                {
                                    "SZALLAS_ID": "7",
                                    "SZALLAS_NEV": "Szieszta Apartmanház",
                                    "HELY": "Balaton-dél",
                                    "Eltelt napok száma": "3273"
                                },
                                {
                                    "SZALLAS_ID": "8",
                                    "SZALLAS_NEV": "Hotel Három Hattyú",
                                    "HELY": "Balaton-dél",
                                    "Eltelt napok száma": "3271"
                                },
                                {
                                    "SZALLAS_ID": "10",
                                    "SZALLAS_NEV": "Lagúna Hotel",
                                    "HELY": "Budapest",
                                    "Eltelt napok száma": "3264"
                                },
                                {
                                    "SZALLAS_ID": "12",
                                    "SZALLAS_NEV": "Gold Hotel",
                                    "HELY": "Budapest",
                                    "Eltelt napok száma": "3260"
                                },
                                {
                                    "SZALLAS_ID": "16",
                                    "SZALLAS_NEV": "Bagoly Hotel",
                                    "HELY": "Pest megye",
                                    "Eltelt napok száma": "3252"
                                },
                                {
                                    "SZALLAS_ID": "17",
                                    "SZALLAS_NEV": "Szarvas Hotel",
                                    "HELY": "Tolna megye",
                                    "Eltelt napok száma": "3249"
                                },
                                {
                                    "SZALLAS_ID": "18",
                                    "SZALLAS_NEV": "Fortuna Apartman",
                                    "HELY": "Dél-Somogy",
                                    "Eltelt napok száma": "3246"
                                },
                                {
                                    "SZALLAS_ID": "20",
                                    "SZALLAS_NEV": "Kollégium",
                                    "HELY": "Budapest",
                                    "Eltelt napok száma": "3246"
                                }
                            ]
                        },
                        "text/html": [
                            "<table>",
                            "<tr><th>SZALLAS_ID</th><th>SZALLAS_NEV</th><th>HELY</th><th>Eltelt napok száma</th></tr>",
                            "<tr><td>3</td><td>Fortuna Apartman</td><td>Hajdúbihar megye</td><td>3278</td></tr>",
                            "<tr><td>6</td><td>Kentaur Hotel</td><td>Balaton-dél</td><td>3276</td></tr>",
                            "<tr><td>7</td><td>Szieszta Apartmanház</td><td>Balaton-dél</td><td>3273</td></tr>",
                            "<tr><td>8</td><td>Hotel Három Hattyú</td><td>Balaton-dél</td><td>3271</td></tr>",
                            "<tr><td>10</td><td>Lagúna Hotel</td><td>Budapest</td><td>3264</td></tr>",
                            "<tr><td>12</td><td>Gold Hotel</td><td>Budapest</td><td>3260</td></tr>",
                            "<tr><td>16</td><td>Bagoly Hotel</td><td>Pest megye</td><td>3252</td></tr>",
                            "<tr><td>17</td><td>Szarvas Hotel</td><td>Tolna megye</td><td>3249</td></tr>",
                            "<tr><td>18</td><td>Fortuna Apartman</td><td>Dél-Somogy</td><td>3246</td></tr>",
                            "<tr><td>20</td><td>Kollégium</td><td>Budapest</td><td>3246</td></tr>",
                            "</table>"
                        ]
                    }
                }
            ],
            "execution_count": 15
        }
    ]
}