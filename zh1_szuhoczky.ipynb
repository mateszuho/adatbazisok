{
    "metadata": {
        "kernelspec": {
            "name": "SQL",
            "display_name": "SQL",
            "language": "sql"
        },
        "language_info": {
            "name": "sql",
            "version": ""
        }
    },
    "nbformat_minor": 2,
    "nbformat": 4,
    "cells": [
        {
            "cell_type": "markdown",
            "source": [
                ""
            ],
            "metadata": {
                "language": "sql",
                "azdata_cell_guid": "34879a1c-7722-4735-9997-68dc4a80e4eb"
            }
        },
        {
            "cell_type": "code",
            "source": [
                "--FELADAT 1\r\n",
                "SELECT szh.TIPUS, ROUND(COUNT(*),-2)\r\n",
                "FROM Foglalas f JOIN Szoba sz ON f.SZOBA_FK = sz.SZOBA_ID\r\n",
                "                JOIN Szallashely szh ON szh.SZALLAS_ID = sz.SZALLAS_FK\r\n",
                "GROUP BY szh.TIPUS\r\n",
                "HAVING ROUND(COUNT(*),-2) < 500\r\n",
                ""
            ],
            "metadata": {
                "azdata_cell_guid": "b141e32b-733a-4fb2-bd9a-bb3646cdb58b",
                "language": "sql"
            },
            "outputs": [
                {
                    "output_type": "display_data",
                    "data": {
                        "text/html": "(3 rows affected)"
                    },
                    "metadata": {}
                },
                {
                    "output_type": "display_data",
                    "data": {
                        "text/html": "Total execution time: 00:00:00.009"
                    },
                    "metadata": {}
                },
                {
                    "output_type": "execute_result",
                    "metadata": {},
                    "execution_count": 7,
                    "data": {
                        "application/vnd.dataresource+json": {
                            "schema": {
                                "fields": [
                                    {
                                        "name": "TIPUS"
                                    },
                                    {
                                        "name": "(No column name)"
                                    }
                                ]
                            },
                            "data": [
                                {
                                    "TIPUS": "Apartman",
                                    "(No column name)": "100"
                                },
                                {
                                    "TIPUS": "vendégház",
                                    "(No column name)": "100"
                                },
                                {
                                    "TIPUS": "panzió",
                                    "(No column name)": "200"
                                }
                            ]
                        },
                        "text/html": [
                            "<table>",
                            "<tr><th>TIPUS</th><th>(No column name)</th></tr>",
                            "<tr><td>Apartman</td><td>100</td></tr>",
                            "<tr><td>vendégház</td><td>100</td></tr>",
                            "<tr><td>panzió</td><td>200</td></tr>",
                            "</table>"
                        ]
                    }
                }
            ],
            "execution_count": 7
        },
        {
            "cell_type": "code",
            "source": [
                "--FELADAT 2\r\n",
                "SELECT CASE \r\n",
                "            WHEN YEAR(v.SZUL_DAT) < 1970 THEN 'idős'\r\n",
                "            WHEN  YEAR(v.SZUL_DAT) >=1985 THEN 'fiatal'\r\n",
                "            ELSE 'középkorú' \r\n",
                "        END AS 'Kategória', COUNT(*) AS 'Foglalásszám'\r\n",
                "FROM Foglalas f JOIN Vendeg v ON f.UGYFEL_FK = v.USERNEV\r\n",
                "WHERE (f.FELNOTT_SZAM+f.GYERMEK_SZAM)>=2\r\n",
                "GROUP BY CASE \r\n",
                "            WHEN YEAR(v.SZUL_DAT) < 1970 THEN 'idős'\r\n",
                "            WHEN  YEAR(v.SZUL_DAT) >=1985 THEN 'fiatal'\r\n",
                "            ELSE 'középkorú' \r\n",
                "         END\r\n",
                "\r\n",
                "\r\n",
                ""
            ],
            "metadata": {
                "azdata_cell_guid": "0346a498-ce66-4a3d-ae47-3dc9099ad371",
                "language": "sql"
            },
            "outputs": [
                {
                    "output_type": "display_data",
                    "data": {
                        "text/html": "(3 rows affected)"
                    },
                    "metadata": {}
                },
                {
                    "output_type": "display_data",
                    "data": {
                        "text/html": "Total execution time: 00:00:00.034"
                    },
                    "metadata": {}
                },
                {
                    "output_type": "execute_result",
                    "metadata": {},
                    "execution_count": 36,
                    "data": {
                        "application/vnd.dataresource+json": {
                            "schema": {
                                "fields": [
                                    {
                                        "name": "Kategória"
                                    },
                                    {
                                        "name": "Foglalásszám"
                                    }
                                ]
                            },
                            "data": [
                                {
                                    "Kategória": "fiatal",
                                    "Foglalásszám": "365"
                                },
                                {
                                    "Kategória": "idős",
                                    "Foglalásszám": "96"
                                },
                                {
                                    "Kategória": "középkorú",
                                    "Foglalásszám": "419"
                                }
                            ]
                        },
                        "text/html": [
                            "<table>",
                            "<tr><th>Kategória</th><th>Foglalásszám</th></tr>",
                            "<tr><td>fiatal</td><td>365</td></tr>",
                            "<tr><td>idős</td><td>96</td></tr>",
                            "<tr><td>középkorú</td><td>419</td></tr>",
                            "</table>"
                        ]
                    }
                }
            ],
            "execution_count": 36
        }
    ]
}