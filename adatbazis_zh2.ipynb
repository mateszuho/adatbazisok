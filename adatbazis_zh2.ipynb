{
    "metadata": {
        "kernelspec": {
            "name": "SQL",
            "display_name": "SQL",
            "language": "sql"
        },
        "language_info": {
            "name": "sql",
            "version": ""
        }
    },
    "nbformat_minor": 2,
    "nbformat": 4,
    "cells": [
        {
            "cell_type": "code",
            "source": [
                "--1 feladat\r\n",
                "SELECT sz.SZOBA_ID,sz.ferohely, DENSE_RANK() OVER (ORDER BY COUNT(*) DESC, sz.ferohely DESC) AS 'Rangsorolás'\r\n",
                "FROM Szoba sz LEFT JOIN Foglalas f ON sz.SZOBA_ID = f.SZOBA_FK\r\n",
                "GROUP By sz.SZOBA_ID, sz.FEROHELY\r\n",
                "ORDER BY COUNT(*) DESC"
            ],
            "metadata": {
                "azdata_cell_guid": "361821bb-872f-42e5-8de1-73bb8ab2d900",
                "language": "sql"
            },
            "outputs": [
                {
                    "output_type": "display_data",
                    "data": {
                        "text/html": "(294 rows affected)"
                    },
                    "metadata": {}
                },
                {
                    "output_type": "display_data",
                    "data": {
                        "text/html": "Total execution time: 00:00:00.013"
                    },
                    "metadata": {}
                },
                {
                    "output_type": "execute_result",
                    "metadata": {},
                    "execution_count": 19,
                    "data": {
                        "application/vnd.dataresource+json": {
                            "schema": {
                                "fields": [
                                    {
                                        "name": "SZOBA_ID"
                                    },
                                    {
                                        "name": "ferohely"
                                    },
                                    {
                                        "name": "Rangsorolás"
                                    }
                                ]
                            },
                            "data": [
                                {
                                    "SZOBA_ID": "58",
                                    "ferohely": "2",
                                    "Rangsorolás": "1"
                                },
                                {
                                    "SZOBA_ID": "185",
                                    "ferohely": "3",
                                    "Rangsorolás": "2"
                                },
                                {
                                    "SZOBA_ID": "182",
                                    "ferohely": "2",
                                    "Rangsorolás": "3"
                                },
                                {
                                    "SZOBA_ID": "70",
                                    "ferohely": "2",
                                    "Rangsorolás": "4"
                                },
                                {
                                    "SZOBA_ID": "94",
                                    "ferohely": "2",
                                    "Rangsorolás": "5"
                                },
                                {
                                    "SZOBA_ID": "122",
                                    "ferohely": "3",
                                    "Rangsorolás": "6"
                                },
                                {
                                    "SZOBA_ID": "74",
                                    "ferohely": "3",
                                    "Rangsorolás": "6"
                                },
                                {
                                    "SZOBA_ID": "48",
                                    "ferohely": "3",
                                    "Rangsorolás": "6"
                                },
                                {
                                    "SZOBA_ID": "35",
                                    "ferohely": "3",
                                    "Rangsorolás": "6"
                                },
                                {
                                    "SZOBA_ID": "12",
                                    "ferohely": "2",
                                    "Rangsorolás": "7"
                                },
                                {
                                    "SZOBA_ID": "172",
                                    "ferohely": "2",
                                    "Rangsorolás": "7"
                                },
                                {
                                    "SZOBA_ID": "198",
                                    "ferohely": "3",
                                    "Rangsorolás": "8"
                                },
                                {
                                    "SZOBA_ID": "1",
                                    "ferohely": "3",
                                    "Rangsorolás": "8"
                                },
                                {
                                    "SZOBA_ID": "3",
                                    "ferohely": "3",
                                    "Rangsorolás": "8"
                                },
                                {
                                    "SZOBA_ID": "43",
                                    "ferohely": "3",
                                    "Rangsorolás": "8"
                                },
                                {
                                    "SZOBA_ID": "117",
                                    "ferohely": "3",
                                    "Rangsorolás": "8"
                                },
                                {
                                    "SZOBA_ID": "83",
                                    "ferohely": "3",
                                    "Rangsorolás": "8"
                                },
                                {
                                    "SZOBA_ID": "88",
                                    "ferohely": "3",
                                    "Rangsorolás": "8"
                                },
                                {
                                    "SZOBA_ID": "89",
                                    "ferohely": "3",
                                    "Rangsorolás": "8"
                                },
                                {
                                    "SZOBA_ID": "110",
                                    "ferohely": "2",
                                    "Rangsorolás": "9"
                                },
                                {
                                    "SZOBA_ID": "121",
                                    "ferohely": "2",
                                    "Rangsorolás": "9"
                                },
                                {
                                    "SZOBA_ID": "140",
                                    "ferohely": "2",
                                    "Rangsorolás": "9"
                                },
                                {
                                    "SZOBA_ID": "55",
                                    "ferohely": "2",
                                    "Rangsorolás": "9"
                                },
                                {
                                    "SZOBA_ID": "38",
                                    "ferohely": "2",
                                    "Rangsorolás": "9"
                                },
                                {
                                    "SZOBA_ID": "27",
                                    "ferohely": "3",
                                    "Rangsorolás": "10"
                                },
                                {
                                    "SZOBA_ID": "49",
                                    "ferohely": "3",
                                    "Rangsorolás": "10"
                                },
                                {
                                    "SZOBA_ID": "143",
                                    "ferohely": "3",
                                    "Rangsorolás": "10"
                                },
                                {
                                    "SZOBA_ID": "138",
                                    "ferohely": "3",
                                    "Rangsorolás": "10"
                                },
                                {
                                    "SZOBA_ID": "115",
                                    "ferohely": "3",
                                    "Rangsorolás": "10"
                                },
                                {
                                    "SZOBA_ID": "96",
                                    "ferohely": "3",
                                    "Rangsorolás": "10"
                                },
                                {
                                    "SZOBA_ID": "97",
                                    "ferohely": "3",
                                    "Rangsorolás": "10"
                                },
                                {
                                    "SZOBA_ID": "193",
                                    "ferohely": "3",
                                    "Rangsorolás": "10"
                                },
                                {
                                    "SZOBA_ID": "187",
                                    "ferohely": "3",
                                    "Rangsorolás": "10"
                                },
                                {
                                    "SZOBA_ID": "156",
                                    "ferohely": "2",
                                    "Rangsorolás": "11"
                                },
                                {
                                    "SZOBA_ID": "163",
                                    "ferohely": "2",
                                    "Rangsorolás": "11"
                                },
                                {
                                    "SZOBA_ID": "165",
                                    "ferohely": "2",
                                    "Rangsorolás": "11"
                                },
                                {
                                    "SZOBA_ID": "109",
                                    "ferohely": "2",
                                    "Rangsorolás": "11"
                                },
                                {
                                    "SZOBA_ID": "139",
                                    "ferohely": "2",
                                    "Rangsorolás": "11"
                                },
                                {
                                    "SZOBA_ID": "149",
                                    "ferohely": "2",
                                    "Rangsorolás": "11"
                                },
                                {
                                    "SZOBA_ID": "118",
                                    "ferohely": "2",
                                    "Rangsorolás": "11"
                                },
                                {
                                    "SZOBA_ID": "127",
                                    "ferohely": "2",
                                    "Rangsorolás": "11"
                                },
                                {
                                    "SZOBA_ID": "59",
                                    "ferohely": "2",
                                    "Rangsorolás": "11"
                                },
                                {
                                    "SZOBA_ID": "80",
                                    "ferohely": "2",
                                    "Rangsorolás": "11"
                                },
                                {
                                    "SZOBA_ID": "39",
                                    "ferohely": "2",
                                    "Rangsorolás": "11"
                                },
                                {
                                    "SZOBA_ID": "36",
                                    "ferohely": "3",
                                    "Rangsorolás": "12"
                                },
                                {
                                    "SZOBA_ID": "22",
                                    "ferohely": "3",
                                    "Rangsorolás": "12"
                                },
                                {
                                    "SZOBA_ID": "6",
                                    "ferohely": "3",
                                    "Rangsorolás": "12"
                                },
                                {
                                    "SZOBA_ID": "9",
                                    "ferohely": "3",
                                    "Rangsorolás": "12"
                                },
                                {
                                    "SZOBA_ID": "17",
                                    "ferohely": "3",
                                    "Rangsorolás": "12"
                                },
                                {
                                    "SZOBA_ID": "18",
                                    "ferohely": "3",
                                    "Rangsorolás": "12"
                                },
                                {
                                    "SZOBA_ID": "77",
                                    "ferohely": "3",
                                    "Rangsorolás": "12"
                                },
                                {
                                    "SZOBA_ID": "54",
                                    "ferohely": "3",
                                    "Rangsorolás": "12"
                                },
                                {
                                    "SZOBA_ID": "44",
                                    "ferohely": "3",
                                    "Rangsorolás": "12"
                                },
                                {
                                    "SZOBA_ID": "132",
                                    "ferohely": "3",
                                    "Rangsorolás": "12"
                                },
                                {
                                    "SZOBA_ID": "133",
                                    "ferohely": "3",
                                    "Rangsorolás": "12"
                                },
                                {
                                    "SZOBA_ID": "134",
                                    "ferohely": "3",
                                    "Rangsorolás": "12"
                                },
                                {
                                    "SZOBA_ID": "120",
                                    "ferohely": "3",
                                    "Rangsorolás": "12"
                                },
                                {
                                    "SZOBA_ID": "124",
                                    "ferohely": "3",
                                    "Rangsorolás": "12"
                                },
                                {
                                    "SZOBA_ID": "146",
                                    "ferohely": "3",
                                    "Rangsorolás": "12"
                                },
                                {
                                    "SZOBA_ID": "92",
                                    "ferohely": "3",
                                    "Rangsorolás": "12"
                                },
                                {
                                    "SZOBA_ID": "82",
                                    "ferohely": "3",
                                    "Rangsorolás": "12"
                                },
                                {
                                    "SZOBA_ID": "188",
                                    "ferohely": "3",
                                    "Rangsorolás": "12"
                                },
                                {
                                    "SZOBA_ID": "181",
                                    "ferohely": "3",
                                    "Rangsorolás": "12"
                                },
                                {
                                    "SZOBA_ID": "176",
                                    "ferohely": "3",
                                    "Rangsorolás": "12"
                                },
                                {
                                    "SZOBA_ID": "197",
                                    "ferohely": "3",
                                    "Rangsorolás": "12"
                                },
                                {
                                    "SZOBA_ID": "169",
                                    "ferohely": "2",
                                    "Rangsorolás": "13"
                                },
                                {
                                    "SZOBA_ID": "161",
                                    "ferohely": "2",
                                    "Rangsorolás": "13"
                                },
                                {
                                    "SZOBA_ID": "195",
                                    "ferohely": "2",
                                    "Rangsorolás": "13"
                                },
                                {
                                    "SZOBA_ID": "106",
                                    "ferohely": "2",
                                    "Rangsorolás": "13"
                                },
                                {
                                    "SZOBA_ID": "145",
                                    "ferohely": "2",
                                    "Rangsorolás": "13"
                                },
                                {
                                    "SZOBA_ID": "148",
                                    "ferohely": "2",
                                    "Rangsorolás": "13"
                                },
                                {
                                    "SZOBA_ID": "150",
                                    "ferohely": "2",
                                    "Rangsorolás": "13"
                                },
                                {
                                    "SZOBA_ID": "126",
                                    "ferohely": "2",
                                    "Rangsorolás": "13"
                                },
                                {
                                    "SZOBA_ID": "137",
                                    "ferohely": "2",
                                    "Rangsorolás": "13"
                                },
                                {
                                    "SZOBA_ID": "141",
                                    "ferohely": "2",
                                    "Rangsorolás": "13"
                                },
                                {
                                    "SZOBA_ID": "130",
                                    "ferohely": "2",
                                    "Rangsorolás": "13"
                                },
                                {
                                    "SZOBA_ID": "42",
                                    "ferohely": "2",
                                    "Rangsorolás": "13"
                                },
                                {
                                    "SZOBA_ID": "78",
                                    "ferohely": "2",
                                    "Rangsorolás": "13"
                                },
                                {
                                    "SZOBA_ID": "67",
                                    "ferohely": "2",
                                    "Rangsorolás": "13"
                                },
                                {
                                    "SZOBA_ID": "64",
                                    "ferohely": "2",
                                    "Rangsorolás": "13"
                                },
                                {
                                    "SZOBA_ID": "19",
                                    "ferohely": "2",
                                    "Rangsorolás": "13"
                                },
                                {
                                    "SZOBA_ID": "15",
                                    "ferohely": "2",
                                    "Rangsorolás": "13"
                                },
                                {
                                    "SZOBA_ID": "7",
                                    "ferohely": "2",
                                    "Rangsorolás": "13"
                                },
                                {
                                    "SZOBA_ID": "4",
                                    "ferohely": "2",
                                    "Rangsorolás": "13"
                                },
                                {
                                    "SZOBA_ID": "28",
                                    "ferohely": "2",
                                    "Rangsorolás": "13"
                                },
                                {
                                    "SZOBA_ID": "29",
                                    "ferohely": "2",
                                    "Rangsorolás": "13"
                                },
                                {
                                    "SZOBA_ID": "33",
                                    "ferohely": "2",
                                    "Rangsorolás": "13"
                                },
                                {
                                    "SZOBA_ID": "8",
                                    "ferohely": "3",
                                    "Rangsorolás": "14"
                                },
                                {
                                    "SZOBA_ID": "16",
                                    "ferohely": "3",
                                    "Rangsorolás": "14"
                                },
                                {
                                    "SZOBA_ID": "20",
                                    "ferohely": "3",
                                    "Rangsorolás": "14"
                                },
                                {
                                    "SZOBA_ID": "79",
                                    "ferohely": "3",
                                    "Rangsorolás": "14"
                                },
                                {
                                    "SZOBA_ID": "61",
                                    "ferohely": "3",
                                    "Rangsorolás": "14"
                                },
                                {
                                    "SZOBA_ID": "51",
                                    "ferohely": "3",
                                    "Rangsorolás": "14"
                                },
                                {
                                    "SZOBA_ID": "123",
                                    "ferohely": "3",
                                    "Rangsorolás": "14"
                                },
                                {
                                    "SZOBA_ID": "144",
                                    "ferohely": "3",
                                    "Rangsorolás": "14"
                                },
                                {
                                    "SZOBA_ID": "153",
                                    "ferohely": "3",
                                    "Rangsorolás": "14"
                                },
                                {
                                    "SZOBA_ID": "112",
                                    "ferohely": "3",
                                    "Rangsorolás": "14"
                                },
                                {
                                    "SZOBA_ID": "113",
                                    "ferohely": "3",
                                    "Rangsorolás": "14"
                                },
                                {
                                    "SZOBA_ID": "93",
                                    "ferohely": "3",
                                    "Rangsorolás": "14"
                                },
                                {
                                    "SZOBA_ID": "87",
                                    "ferohely": "3",
                                    "Rangsorolás": "14"
                                },
                                {
                                    "SZOBA_ID": "155",
                                    "ferohely": "3",
                                    "Rangsorolás": "14"
                                },
                                {
                                    "SZOBA_ID": "160",
                                    "ferohely": "3",
                                    "Rangsorolás": "14"
                                },
                                {
                                    "SZOBA_ID": "168",
                                    "ferohely": "2",
                                    "Rangsorolás": "15"
                                },
                                {
                                    "SZOBA_ID": "170",
                                    "ferohely": "2",
                                    "Rangsorolás": "15"
                                },
                                {
                                    "SZOBA_ID": "171",
                                    "ferohely": "2",
                                    "Rangsorolás": "15"
                                },
                                {
                                    "SZOBA_ID": "164",
                                    "ferohely": "2",
                                    "Rangsorolás": "15"
                                },
                                {
                                    "SZOBA_ID": "157",
                                    "ferohely": "2",
                                    "Rangsorolás": "15"
                                },
                                {
                                    "SZOBA_ID": "175",
                                    "ferohely": "2",
                                    "Rangsorolás": "15"
                                },
                                {
                                    "SZOBA_ID": "189",
                                    "ferohely": "2",
                                    "Rangsorolás": "15"
                                },
                                {
                                    "SZOBA_ID": "190",
                                    "ferohely": "2",
                                    "Rangsorolás": "15"
                                },
                                {
                                    "SZOBA_ID": "191",
                                    "ferohely": "2",
                                    "Rangsorolás": "15"
                                },
                                {
                                    "SZOBA_ID": "86",
                                    "ferohely": "2",
                                    "Rangsorolás": "15"
                                },
                                {
                                    "SZOBA_ID": "111",
                                    "ferohely": "2",
                                    "Rangsorolás": "15"
                                },
                                {
                                    "SZOBA_ID": "107",
                                    "ferohely": "2",
                                    "Rangsorolás": "15"
                                },
                                {
                                    "SZOBA_ID": "99",
                                    "ferohely": "2",
                                    "Rangsorolás": "15"
                                },
                                {
                                    "SZOBA_ID": "154",
                                    "ferohely": "2",
                                    "Rangsorolás": "15"
                                },
                                {
                                    "SZOBA_ID": "119",
                                    "ferohely": "2",
                                    "Rangsorolás": "15"
                                },
                                {
                                    "SZOBA_ID": "131",
                                    "ferohely": "2",
                                    "Rangsorolás": "15"
                                },
                                {
                                    "SZOBA_ID": "128",
                                    "ferohely": "2",
                                    "Rangsorolás": "15"
                                },
                                {
                                    "SZOBA_ID": "52",
                                    "ferohely": "2",
                                    "Rangsorolás": "15"
                                },
                                {
                                    "SZOBA_ID": "45",
                                    "ferohely": "2",
                                    "Rangsorolás": "15"
                                },
                                {
                                    "SZOBA_ID": "62",
                                    "ferohely": "2",
                                    "Rangsorolás": "15"
                                },
                                {
                                    "SZOBA_ID": "81",
                                    "ferohely": "2",
                                    "Rangsorolás": "15"
                                },
                                {
                                    "SZOBA_ID": "66",
                                    "ferohely": "3",
                                    "Rangsorolás": "16"
                                },
                                {
                                    "SZOBA_ID": "46",
                                    "ferohely": "3",
                                    "Rangsorolás": "16"
                                },
                                {
                                    "SZOBA_ID": "13",
                                    "ferohely": "3",
                                    "Rangsorolás": "16"
                                },
                                {
                                    "SZOBA_ID": "10",
                                    "ferohely": "3",
                                    "Rangsorolás": "16"
                                },
                                {
                                    "SZOBA_ID": "2",
                                    "ferohely": "3",
                                    "Rangsorolás": "16"
                                },
                                {
                                    "SZOBA_ID": "34",
                                    "ferohely": "3",
                                    "Rangsorolás": "16"
                                },
                                {
                                    "SZOBA_ID": "40",
                                    "ferohely": "3",
                                    "Rangsorolás": "16"
                                },
                                {
                                    "SZOBA_ID": "104",
                                    "ferohely": "3",
                                    "Rangsorolás": "16"
                                },
                                {
                                    "SZOBA_ID": "95",
                                    "ferohely": "3",
                                    "Rangsorolás": "16"
                                },
                                {
                                    "SZOBA_ID": "69",
                                    "ferohely": "3",
                                    "Rangsorolás": "16"
                                },
                                {
                                    "SZOBA_ID": "84",
                                    "ferohely": "3",
                                    "Rangsorolás": "16"
                                },
                                {
                                    "SZOBA_ID": "90",
                                    "ferohely": "3",
                                    "Rangsorolás": "16"
                                },
                                {
                                    "SZOBA_ID": "183",
                                    "ferohely": "3",
                                    "Rangsorolás": "16"
                                },
                                {
                                    "SZOBA_ID": "177",
                                    "ferohely": "3",
                                    "Rangsorolás": "16"
                                },
                                {
                                    "SZOBA_ID": "178",
                                    "ferohely": "3",
                                    "Rangsorolás": "16"
                                },
                                {
                                    "SZOBA_ID": "173",
                                    "ferohely": "2",
                                    "Rangsorolás": "17"
                                },
                                {
                                    "SZOBA_ID": "174",
                                    "ferohely": "2",
                                    "Rangsorolás": "17"
                                },
                                {
                                    "SZOBA_ID": "184",
                                    "ferohely": "2",
                                    "Rangsorolás": "17"
                                },
                                {
                                    "SZOBA_ID": "186",
                                    "ferohely": "2",
                                    "Rangsorolás": "17"
                                },
                                {
                                    "SZOBA_ID": "152",
                                    "ferohely": "2",
                                    "Rangsorolás": "17"
                                },
                                {
                                    "SZOBA_ID": "196",
                                    "ferohely": "2",
                                    "Rangsorolás": "17"
                                },
                                {
                                    "SZOBA_ID": "91",
                                    "ferohely": "2",
                                    "Rangsorolás": "17"
                                },
                                {
                                    "SZOBA_ID": "85",
                                    "ferohely": "2",
                                    "Rangsorolás": "17"
                                },
                                {
                                    "SZOBA_ID": "98",
                                    "ferohely": "2",
                                    "Rangsorolás": "17"
                                },
                                {
                                    "SZOBA_ID": "100",
                                    "ferohely": "2",
                                    "Rangsorolás": "17"
                                },
                                {
                                    "SZOBA_ID": "103",
                                    "ferohely": "2",
                                    "Rangsorolás": "17"
                                },
                                {
                                    "SZOBA_ID": "114",
                                    "ferohely": "2",
                                    "Rangsorolás": "17"
                                },
                                {
                                    "SZOBA_ID": "129",
                                    "ferohely": "2",
                                    "Rangsorolás": "17"
                                },
                                {
                                    "SZOBA_ID": "5",
                                    "ferohely": "2",
                                    "Rangsorolás": "17"
                                },
                                {
                                    "SZOBA_ID": "11",
                                    "ferohely": "2",
                                    "Rangsorolás": "17"
                                },
                                {
                                    "SZOBA_ID": "21",
                                    "ferohely": "2",
                                    "Rangsorolás": "17"
                                },
                                {
                                    "SZOBA_ID": "50",
                                    "ferohely": "2",
                                    "Rangsorolás": "17"
                                },
                                {
                                    "SZOBA_ID": "63",
                                    "ferohely": "2",
                                    "Rangsorolás": "17"
                                },
                                {
                                    "SZOBA_ID": "57",
                                    "ferohely": "2",
                                    "Rangsorolás": "17"
                                },
                                {
                                    "SZOBA_ID": "72",
                                    "ferohely": "2",
                                    "Rangsorolás": "17"
                                },
                                {
                                    "SZOBA_ID": "73",
                                    "ferohely": "2",
                                    "Rangsorolás": "17"
                                },
                                {
                                    "SZOBA_ID": "24",
                                    "ferohely": "4",
                                    "Rangsorolás": "18"
                                },
                                {
                                    "SZOBA_ID": "30",
                                    "ferohely": "3",
                                    "Rangsorolás": "19"
                                },
                                {
                                    "SZOBA_ID": "31",
                                    "ferohely": "3",
                                    "Rangsorolás": "19"
                                },
                                {
                                    "SZOBA_ID": "14",
                                    "ferohely": "3",
                                    "Rangsorolás": "19"
                                },
                                {
                                    "SZOBA_ID": "71",
                                    "ferohely": "3",
                                    "Rangsorolás": "19"
                                },
                                {
                                    "SZOBA_ID": "135",
                                    "ferohely": "3",
                                    "Rangsorolás": "19"
                                },
                                {
                                    "SZOBA_ID": "162",
                                    "ferohely": "3",
                                    "Rangsorolás": "19"
                                },
                                {
                                    "SZOBA_ID": "179",
                                    "ferohely": "3",
                                    "Rangsorolás": "19"
                                },
                                {
                                    "SZOBA_ID": "180",
                                    "ferohely": "2",
                                    "Rangsorolás": "20"
                                },
                                {
                                    "SZOBA_ID": "158",
                                    "ferohely": "2",
                                    "Rangsorolás": "20"
                                },
                                {
                                    "SZOBA_ID": "166",
                                    "ferohely": "2",
                                    "Rangsorolás": "20"
                                },
                                {
                                    "SZOBA_ID": "136",
                                    "ferohely": "2",
                                    "Rangsorolás": "20"
                                },
                                {
                                    "SZOBA_ID": "151",
                                    "ferohely": "2",
                                    "Rangsorolás": "20"
                                },
                                {
                                    "SZOBA_ID": "101",
                                    "ferohely": "2",
                                    "Rangsorolás": "20"
                                },
                                {
                                    "SZOBA_ID": "68",
                                    "ferohely": "2",
                                    "Rangsorolás": "20"
                                },
                                {
                                    "SZOBA_ID": "75",
                                    "ferohely": "2",
                                    "Rangsorolás": "20"
                                },
                                {
                                    "SZOBA_ID": "76",
                                    "ferohely": "2",
                                    "Rangsorolás": "20"
                                },
                                {
                                    "SZOBA_ID": "23",
                                    "ferohely": "2",
                                    "Rangsorolás": "20"
                                },
                                {
                                    "SZOBA_ID": "37",
                                    "ferohely": "2",
                                    "Rangsorolás": "20"
                                },
                                {
                                    "SZOBA_ID": "41",
                                    "ferohely": "3",
                                    "Rangsorolás": "21"
                                },
                                {
                                    "SZOBA_ID": "25",
                                    "ferohely": "3",
                                    "Rangsorolás": "21"
                                },
                                {
                                    "SZOBA_ID": "116",
                                    "ferohely": "3",
                                    "Rangsorolás": "21"
                                },
                                {
                                    "SZOBA_ID": "142",
                                    "ferohely": "3",
                                    "Rangsorolás": "21"
                                },
                                {
                                    "SZOBA_ID": "167",
                                    "ferohely": "3",
                                    "Rangsorolás": "21"
                                },
                                {
                                    "SZOBA_ID": "192",
                                    "ferohely": "2",
                                    "Rangsorolás": "22"
                                },
                                {
                                    "SZOBA_ID": "102",
                                    "ferohely": "2",
                                    "Rangsorolás": "22"
                                },
                                {
                                    "SZOBA_ID": "105",
                                    "ferohely": "2",
                                    "Rangsorolás": "22"
                                },
                                {
                                    "SZOBA_ID": "108",
                                    "ferohely": "2",
                                    "Rangsorolás": "22"
                                },
                                {
                                    "SZOBA_ID": "26",
                                    "ferohely": "2",
                                    "Rangsorolás": "22"
                                },
                                {
                                    "SZOBA_ID": "56",
                                    "ferohely": "2",
                                    "Rangsorolás": "22"
                                },
                                {
                                    "SZOBA_ID": "53",
                                    "ferohely": "2",
                                    "Rangsorolás": "22"
                                },
                                {
                                    "SZOBA_ID": "47",
                                    "ferohely": "2",
                                    "Rangsorolás": "22"
                                },
                                {
                                    "SZOBA_ID": "60",
                                    "ferohely": "3",
                                    "Rangsorolás": "23"
                                },
                                {
                                    "SZOBA_ID": "159",
                                    "ferohely": "3",
                                    "Rangsorolás": "23"
                                },
                                {
                                    "SZOBA_ID": "199",
                                    "ferohely": "3",
                                    "Rangsorolás": "23"
                                },
                                {
                                    "SZOBA_ID": "209",
                                    "ferohely": "3",
                                    "Rangsorolás": "23"
                                },
                                {
                                    "SZOBA_ID": "201",
                                    "ferohely": "3",
                                    "Rangsorolás": "23"
                                },
                                {
                                    "SZOBA_ID": "202",
                                    "ferohely": "3",
                                    "Rangsorolás": "23"
                                },
                                {
                                    "SZOBA_ID": "203",
                                    "ferohely": "3",
                                    "Rangsorolás": "23"
                                },
                                {
                                    "SZOBA_ID": "204",
                                    "ferohely": "3",
                                    "Rangsorolás": "23"
                                },
                                {
                                    "SZOBA_ID": "205",
                                    "ferohely": "3",
                                    "Rangsorolás": "23"
                                },
                                {
                                    "SZOBA_ID": "212",
                                    "ferohely": "3",
                                    "Rangsorolás": "23"
                                },
                                {
                                    "SZOBA_ID": "213",
                                    "ferohely": "3",
                                    "Rangsorolás": "23"
                                },
                                {
                                    "SZOBA_ID": "214",
                                    "ferohely": "3",
                                    "Rangsorolás": "23"
                                },
                                {
                                    "SZOBA_ID": "216",
                                    "ferohely": "3",
                                    "Rangsorolás": "23"
                                },
                                {
                                    "SZOBA_ID": "218",
                                    "ferohely": "3",
                                    "Rangsorolás": "23"
                                },
                                {
                                    "SZOBA_ID": "220",
                                    "ferohely": "3",
                                    "Rangsorolás": "23"
                                },
                                {
                                    "SZOBA_ID": "221",
                                    "ferohely": "3",
                                    "Rangsorolás": "23"
                                },
                                {
                                    "SZOBA_ID": "226",
                                    "ferohely": "3",
                                    "Rangsorolás": "23"
                                },
                                {
                                    "SZOBA_ID": "228",
                                    "ferohely": "3",
                                    "Rangsorolás": "23"
                                },
                                {
                                    "SZOBA_ID": "278",
                                    "ferohely": "3",
                                    "Rangsorolás": "23"
                                },
                                {
                                    "SZOBA_ID": "280",
                                    "ferohely": "3",
                                    "Rangsorolás": "23"
                                },
                                {
                                    "SZOBA_ID": "270",
                                    "ferohely": "3",
                                    "Rangsorolás": "23"
                                },
                                {
                                    "SZOBA_ID": "271",
                                    "ferohely": "3",
                                    "Rangsorolás": "23"
                                },
                                {
                                    "SZOBA_ID": "272",
                                    "ferohely": "3",
                                    "Rangsorolás": "23"
                                },
                                {
                                    "SZOBA_ID": "274",
                                    "ferohely": "3",
                                    "Rangsorolás": "23"
                                },
                                {
                                    "SZOBA_ID": "289",
                                    "ferohely": "3",
                                    "Rangsorolás": "23"
                                },
                                {
                                    "SZOBA_ID": "286",
                                    "ferohely": "3",
                                    "Rangsorolás": "23"
                                },
                                {
                                    "SZOBA_ID": "287",
                                    "ferohely": "3",
                                    "Rangsorolás": "23"
                                },
                                {
                                    "SZOBA_ID": "294",
                                    "ferohely": "3",
                                    "Rangsorolás": "23"
                                },
                                {
                                    "SZOBA_ID": "233",
                                    "ferohely": "3",
                                    "Rangsorolás": "23"
                                },
                                {
                                    "SZOBA_ID": "234",
                                    "ferohely": "3",
                                    "Rangsorolás": "23"
                                },
                                {
                                    "SZOBA_ID": "235",
                                    "ferohely": "3",
                                    "Rangsorolás": "23"
                                },
                                {
                                    "SZOBA_ID": "236",
                                    "ferohely": "3",
                                    "Rangsorolás": "23"
                                },
                                {
                                    "SZOBA_ID": "230",
                                    "ferohely": "3",
                                    "Rangsorolás": "23"
                                },
                                {
                                    "SZOBA_ID": "238",
                                    "ferohely": "3",
                                    "Rangsorolás": "23"
                                },
                                {
                                    "SZOBA_ID": "240",
                                    "ferohely": "3",
                                    "Rangsorolás": "23"
                                },
                                {
                                    "SZOBA_ID": "255",
                                    "ferohely": "3",
                                    "Rangsorolás": "23"
                                },
                                {
                                    "SZOBA_ID": "256",
                                    "ferohely": "3",
                                    "Rangsorolás": "23"
                                },
                                {
                                    "SZOBA_ID": "250",
                                    "ferohely": "3",
                                    "Rangsorolás": "23"
                                },
                                {
                                    "SZOBA_ID": "251",
                                    "ferohely": "3",
                                    "Rangsorolás": "23"
                                },
                                {
                                    "SZOBA_ID": "252",
                                    "ferohely": "3",
                                    "Rangsorolás": "23"
                                },
                                {
                                    "SZOBA_ID": "264",
                                    "ferohely": "3",
                                    "Rangsorolás": "23"
                                },
                                {
                                    "SZOBA_ID": "265",
                                    "ferohely": "3",
                                    "Rangsorolás": "23"
                                },
                                {
                                    "SZOBA_ID": "266",
                                    "ferohely": "2",
                                    "Rangsorolás": "24"
                                },
                                {
                                    "SZOBA_ID": "267",
                                    "ferohely": "2",
                                    "Rangsorolás": "24"
                                },
                                {
                                    "SZOBA_ID": "268",
                                    "ferohely": "2",
                                    "Rangsorolás": "24"
                                },
                                {
                                    "SZOBA_ID": "269",
                                    "ferohely": "2",
                                    "Rangsorolás": "24"
                                },
                                {
                                    "SZOBA_ID": "253",
                                    "ferohely": "2",
                                    "Rangsorolás": "24"
                                },
                                {
                                    "SZOBA_ID": "254",
                                    "ferohely": "2",
                                    "Rangsorolás": "24"
                                },
                                {
                                    "SZOBA_ID": "257",
                                    "ferohely": "2",
                                    "Rangsorolás": "24"
                                },
                                {
                                    "SZOBA_ID": "258",
                                    "ferohely": "2",
                                    "Rangsorolás": "24"
                                },
                                {
                                    "SZOBA_ID": "259",
                                    "ferohely": "2",
                                    "Rangsorolás": "24"
                                },
                                {
                                    "SZOBA_ID": "260",
                                    "ferohely": "2",
                                    "Rangsorolás": "24"
                                },
                                {
                                    "SZOBA_ID": "241",
                                    "ferohely": "2",
                                    "Rangsorolás": "24"
                                },
                                {
                                    "SZOBA_ID": "242",
                                    "ferohely": "2",
                                    "Rangsorolás": "24"
                                },
                                {
                                    "SZOBA_ID": "243",
                                    "ferohely": "2",
                                    "Rangsorolás": "24"
                                },
                                {
                                    "SZOBA_ID": "244",
                                    "ferohely": "2",
                                    "Rangsorolás": "24"
                                },
                                {
                                    "SZOBA_ID": "245",
                                    "ferohely": "2",
                                    "Rangsorolás": "24"
                                },
                                {
                                    "SZOBA_ID": "246",
                                    "ferohely": "2",
                                    "Rangsorolás": "24"
                                },
                                {
                                    "SZOBA_ID": "247",
                                    "ferohely": "2",
                                    "Rangsorolás": "24"
                                },
                                {
                                    "SZOBA_ID": "248",
                                    "ferohely": "2",
                                    "Rangsorolás": "24"
                                },
                                {
                                    "SZOBA_ID": "249",
                                    "ferohely": "2",
                                    "Rangsorolás": "24"
                                },
                                {
                                    "SZOBA_ID": "239",
                                    "ferohely": "2",
                                    "Rangsorolás": "24"
                                },
                                {
                                    "SZOBA_ID": "231",
                                    "ferohely": "2",
                                    "Rangsorolás": "24"
                                },
                                {
                                    "SZOBA_ID": "232",
                                    "ferohely": "2",
                                    "Rangsorolás": "24"
                                },
                                {
                                    "SZOBA_ID": "237",
                                    "ferohely": "2",
                                    "Rangsorolás": "24"
                                },
                                {
                                    "SZOBA_ID": "288",
                                    "ferohely": "2",
                                    "Rangsorolás": "24"
                                },
                                {
                                    "SZOBA_ID": "290",
                                    "ferohely": "2",
                                    "Rangsorolás": "24"
                                },
                                {
                                    "SZOBA_ID": "291",
                                    "ferohely": "2",
                                    "Rangsorolás": "24"
                                },
                                {
                                    "SZOBA_ID": "292",
                                    "ferohely": "2",
                                    "Rangsorolás": "24"
                                },
                                {
                                    "SZOBA_ID": "293",
                                    "ferohely": "2",
                                    "Rangsorolás": "24"
                                },
                                {
                                    "SZOBA_ID": "275",
                                    "ferohely": "2",
                                    "Rangsorolás": "24"
                                },
                                {
                                    "SZOBA_ID": "276",
                                    "ferohely": "2",
                                    "Rangsorolás": "24"
                                },
                                {
                                    "SZOBA_ID": "277",
                                    "ferohely": "2",
                                    "Rangsorolás": "24"
                                },
                                {
                                    "SZOBA_ID": "273",
                                    "ferohely": "2",
                                    "Rangsorolás": "24"
                                },
                                {
                                    "SZOBA_ID": "281",
                                    "ferohely": "2",
                                    "Rangsorolás": "24"
                                },
                                {
                                    "SZOBA_ID": "282",
                                    "ferohely": "2",
                                    "Rangsorolás": "24"
                                },
                                {
                                    "SZOBA_ID": "283",
                                    "ferohely": "2",
                                    "Rangsorolás": "24"
                                },
                                {
                                    "SZOBA_ID": "284",
                                    "ferohely": "2",
                                    "Rangsorolás": "24"
                                },
                                {
                                    "SZOBA_ID": "285",
                                    "ferohely": "2",
                                    "Rangsorolás": "24"
                                },
                                {
                                    "SZOBA_ID": "279",
                                    "ferohely": "2",
                                    "Rangsorolás": "24"
                                },
                                {
                                    "SZOBA_ID": "263",
                                    "ferohely": "2",
                                    "Rangsorolás": "24"
                                },
                                {
                                    "SZOBA_ID": "229",
                                    "ferohely": "2",
                                    "Rangsorolás": "24"
                                },
                                {
                                    "SZOBA_ID": "227",
                                    "ferohely": "2",
                                    "Rangsorolás": "24"
                                },
                                {
                                    "SZOBA_ID": "222",
                                    "ferohely": "2",
                                    "Rangsorolás": "24"
                                },
                                {
                                    "SZOBA_ID": "223",
                                    "ferohely": "2",
                                    "Rangsorolás": "24"
                                },
                                {
                                    "SZOBA_ID": "224",
                                    "ferohely": "2",
                                    "Rangsorolás": "24"
                                },
                                {
                                    "SZOBA_ID": "225",
                                    "ferohely": "2",
                                    "Rangsorolás": "24"
                                },
                                {
                                    "SZOBA_ID": "219",
                                    "ferohely": "2",
                                    "Rangsorolás": "24"
                                },
                                {
                                    "SZOBA_ID": "217",
                                    "ferohely": "2",
                                    "Rangsorolás": "24"
                                },
                                {
                                    "SZOBA_ID": "215",
                                    "ferohely": "2",
                                    "Rangsorolás": "24"
                                },
                                {
                                    "SZOBA_ID": "206",
                                    "ferohely": "2",
                                    "Rangsorolás": "24"
                                },
                                {
                                    "SZOBA_ID": "207",
                                    "ferohely": "2",
                                    "Rangsorolás": "24"
                                },
                                {
                                    "SZOBA_ID": "208",
                                    "ferohely": "2",
                                    "Rangsorolás": "24"
                                },
                                {
                                    "SZOBA_ID": "210",
                                    "ferohely": "2",
                                    "Rangsorolás": "24"
                                },
                                {
                                    "SZOBA_ID": "211",
                                    "ferohely": "2",
                                    "Rangsorolás": "24"
                                },
                                {
                                    "SZOBA_ID": "200",
                                    "ferohely": "2",
                                    "Rangsorolás": "24"
                                },
                                {
                                    "SZOBA_ID": "194",
                                    "ferohely": "2",
                                    "Rangsorolás": "24"
                                },
                                {
                                    "SZOBA_ID": "65",
                                    "ferohely": "2",
                                    "Rangsorolás": "24"
                                },
                                {
                                    "SZOBA_ID": "32",
                                    "ferohely": "2",
                                    "Rangsorolás": "24"
                                },
                                {
                                    "SZOBA_ID": "147",
                                    "ferohely": "2",
                                    "Rangsorolás": "24"
                                },
                                {
                                    "SZOBA_ID": "125",
                                    "ferohely": "2",
                                    "Rangsorolás": "24"
                                },
                                {
                                    "SZOBA_ID": "261",
                                    "ferohely": "1",
                                    "Rangsorolás": "25"
                                },
                                {
                                    "SZOBA_ID": "262",
                                    "ferohely": "1",
                                    "Rangsorolás": "25"
                                }
                            ]
                        },
                        "text/html": [
                            "<table>",
                            "<tr><th>SZOBA_ID</th><th>ferohely</th><th>Rangsorolás</th></tr>",
                            "<tr><td>58</td><td>2</td><td>1</td></tr>",
                            "<tr><td>185</td><td>3</td><td>2</td></tr>",
                            "<tr><td>182</td><td>2</td><td>3</td></tr>",
                            "<tr><td>70</td><td>2</td><td>4</td></tr>",
                            "<tr><td>94</td><td>2</td><td>5</td></tr>",
                            "<tr><td>122</td><td>3</td><td>6</td></tr>",
                            "<tr><td>74</td><td>3</td><td>6</td></tr>",
                            "<tr><td>48</td><td>3</td><td>6</td></tr>",
                            "<tr><td>35</td><td>3</td><td>6</td></tr>",
                            "<tr><td>12</td><td>2</td><td>7</td></tr>",
                            "<tr><td>172</td><td>2</td><td>7</td></tr>",
                            "<tr><td>198</td><td>3</td><td>8</td></tr>",
                            "<tr><td>1</td><td>3</td><td>8</td></tr>",
                            "<tr><td>3</td><td>3</td><td>8</td></tr>",
                            "<tr><td>43</td><td>3</td><td>8</td></tr>",
                            "<tr><td>117</td><td>3</td><td>8</td></tr>",
                            "<tr><td>83</td><td>3</td><td>8</td></tr>",
                            "<tr><td>88</td><td>3</td><td>8</td></tr>",
                            "<tr><td>89</td><td>3</td><td>8</td></tr>",
                            "<tr><td>110</td><td>2</td><td>9</td></tr>",
                            "<tr><td>121</td><td>2</td><td>9</td></tr>",
                            "<tr><td>140</td><td>2</td><td>9</td></tr>",
                            "<tr><td>55</td><td>2</td><td>9</td></tr>",
                            "<tr><td>38</td><td>2</td><td>9</td></tr>",
                            "<tr><td>27</td><td>3</td><td>10</td></tr>",
                            "<tr><td>49</td><td>3</td><td>10</td></tr>",
                            "<tr><td>143</td><td>3</td><td>10</td></tr>",
                            "<tr><td>138</td><td>3</td><td>10</td></tr>",
                            "<tr><td>115</td><td>3</td><td>10</td></tr>",
                            "<tr><td>96</td><td>3</td><td>10</td></tr>",
                            "<tr><td>97</td><td>3</td><td>10</td></tr>",
                            "<tr><td>193</td><td>3</td><td>10</td></tr>",
                            "<tr><td>187</td><td>3</td><td>10</td></tr>",
                            "<tr><td>156</td><td>2</td><td>11</td></tr>",
                            "<tr><td>163</td><td>2</td><td>11</td></tr>",
                            "<tr><td>165</td><td>2</td><td>11</td></tr>",
                            "<tr><td>109</td><td>2</td><td>11</td></tr>",
                            "<tr><td>139</td><td>2</td><td>11</td></tr>",
                            "<tr><td>149</td><td>2</td><td>11</td></tr>",
                            "<tr><td>118</td><td>2</td><td>11</td></tr>",
                            "<tr><td>127</td><td>2</td><td>11</td></tr>",
                            "<tr><td>59</td><td>2</td><td>11</td></tr>",
                            "<tr><td>80</td><td>2</td><td>11</td></tr>",
                            "<tr><td>39</td><td>2</td><td>11</td></tr>",
                            "<tr><td>36</td><td>3</td><td>12</td></tr>",
                            "<tr><td>22</td><td>3</td><td>12</td></tr>",
                            "<tr><td>6</td><td>3</td><td>12</td></tr>",
                            "<tr><td>9</td><td>3</td><td>12</td></tr>",
                            "<tr><td>17</td><td>3</td><td>12</td></tr>",
                            "<tr><td>18</td><td>3</td><td>12</td></tr>",
                            "<tr><td>77</td><td>3</td><td>12</td></tr>",
                            "<tr><td>54</td><td>3</td><td>12</td></tr>",
                            "<tr><td>44</td><td>3</td><td>12</td></tr>",
                            "<tr><td>132</td><td>3</td><td>12</td></tr>",
                            "<tr><td>133</td><td>3</td><td>12</td></tr>",
                            "<tr><td>134</td><td>3</td><td>12</td></tr>",
                            "<tr><td>120</td><td>3</td><td>12</td></tr>",
                            "<tr><td>124</td><td>3</td><td>12</td></tr>",
                            "<tr><td>146</td><td>3</td><td>12</td></tr>",
                            "<tr><td>92</td><td>3</td><td>12</td></tr>",
                            "<tr><td>82</td><td>3</td><td>12</td></tr>",
                            "<tr><td>188</td><td>3</td><td>12</td></tr>",
                            "<tr><td>181</td><td>3</td><td>12</td></tr>",
                            "<tr><td>176</td><td>3</td><td>12</td></tr>",
                            "<tr><td>197</td><td>3</td><td>12</td></tr>",
                            "<tr><td>169</td><td>2</td><td>13</td></tr>",
                            "<tr><td>161</td><td>2</td><td>13</td></tr>",
                            "<tr><td>195</td><td>2</td><td>13</td></tr>",
                            "<tr><td>106</td><td>2</td><td>13</td></tr>",
                            "<tr><td>145</td><td>2</td><td>13</td></tr>",
                            "<tr><td>148</td><td>2</td><td>13</td></tr>",
                            "<tr><td>150</td><td>2</td><td>13</td></tr>",
                            "<tr><td>126</td><td>2</td><td>13</td></tr>",
                            "<tr><td>137</td><td>2</td><td>13</td></tr>",
                            "<tr><td>141</td><td>2</td><td>13</td></tr>",
                            "<tr><td>130</td><td>2</td><td>13</td></tr>",
                            "<tr><td>42</td><td>2</td><td>13</td></tr>",
                            "<tr><td>78</td><td>2</td><td>13</td></tr>",
                            "<tr><td>67</td><td>2</td><td>13</td></tr>",
                            "<tr><td>64</td><td>2</td><td>13</td></tr>",
                            "<tr><td>19</td><td>2</td><td>13</td></tr>",
                            "<tr><td>15</td><td>2</td><td>13</td></tr>",
                            "<tr><td>7</td><td>2</td><td>13</td></tr>",
                            "<tr><td>4</td><td>2</td><td>13</td></tr>",
                            "<tr><td>28</td><td>2</td><td>13</td></tr>",
                            "<tr><td>29</td><td>2</td><td>13</td></tr>",
                            "<tr><td>33</td><td>2</td><td>13</td></tr>",
                            "<tr><td>8</td><td>3</td><td>14</td></tr>",
                            "<tr><td>16</td><td>3</td><td>14</td></tr>",
                            "<tr><td>20</td><td>3</td><td>14</td></tr>",
                            "<tr><td>79</td><td>3</td><td>14</td></tr>",
                            "<tr><td>61</td><td>3</td><td>14</td></tr>",
                            "<tr><td>51</td><td>3</td><td>14</td></tr>",
                            "<tr><td>123</td><td>3</td><td>14</td></tr>",
                            "<tr><td>144</td><td>3</td><td>14</td></tr>",
                            "<tr><td>153</td><td>3</td><td>14</td></tr>",
                            "<tr><td>112</td><td>3</td><td>14</td></tr>",
                            "<tr><td>113</td><td>3</td><td>14</td></tr>",
                            "<tr><td>93</td><td>3</td><td>14</td></tr>",
                            "<tr><td>87</td><td>3</td><td>14</td></tr>",
                            "<tr><td>155</td><td>3</td><td>14</td></tr>",
                            "<tr><td>160</td><td>3</td><td>14</td></tr>",
                            "<tr><td>168</td><td>2</td><td>15</td></tr>",
                            "<tr><td>170</td><td>2</td><td>15</td></tr>",
                            "<tr><td>171</td><td>2</td><td>15</td></tr>",
                            "<tr><td>164</td><td>2</td><td>15</td></tr>",
                            "<tr><td>157</td><td>2</td><td>15</td></tr>",
                            "<tr><td>175</td><td>2</td><td>15</td></tr>",
                            "<tr><td>189</td><td>2</td><td>15</td></tr>",
                            "<tr><td>190</td><td>2</td><td>15</td></tr>",
                            "<tr><td>191</td><td>2</td><td>15</td></tr>",
                            "<tr><td>86</td><td>2</td><td>15</td></tr>",
                            "<tr><td>111</td><td>2</td><td>15</td></tr>",
                            "<tr><td>107</td><td>2</td><td>15</td></tr>",
                            "<tr><td>99</td><td>2</td><td>15</td></tr>",
                            "<tr><td>154</td><td>2</td><td>15</td></tr>",
                            "<tr><td>119</td><td>2</td><td>15</td></tr>",
                            "<tr><td>131</td><td>2</td><td>15</td></tr>",
                            "<tr><td>128</td><td>2</td><td>15</td></tr>",
                            "<tr><td>52</td><td>2</td><td>15</td></tr>",
                            "<tr><td>45</td><td>2</td><td>15</td></tr>",
                            "<tr><td>62</td><td>2</td><td>15</td></tr>",
                            "<tr><td>81</td><td>2</td><td>15</td></tr>",
                            "<tr><td>66</td><td>3</td><td>16</td></tr>",
                            "<tr><td>46</td><td>3</td><td>16</td></tr>",
                            "<tr><td>13</td><td>3</td><td>16</td></tr>",
                            "<tr><td>10</td><td>3</td><td>16</td></tr>",
                            "<tr><td>2</td><td>3</td><td>16</td></tr>",
                            "<tr><td>34</td><td>3</td><td>16</td></tr>",
                            "<tr><td>40</td><td>3</td><td>16</td></tr>",
                            "<tr><td>104</td><td>3</td><td>16</td></tr>",
                            "<tr><td>95</td><td>3</td><td>16</td></tr>",
                            "<tr><td>69</td><td>3</td><td>16</td></tr>",
                            "<tr><td>84</td><td>3</td><td>16</td></tr>",
                            "<tr><td>90</td><td>3</td><td>16</td></tr>",
                            "<tr><td>183</td><td>3</td><td>16</td></tr>",
                            "<tr><td>177</td><td>3</td><td>16</td></tr>",
                            "<tr><td>178</td><td>3</td><td>16</td></tr>",
                            "<tr><td>173</td><td>2</td><td>17</td></tr>",
                            "<tr><td>174</td><td>2</td><td>17</td></tr>",
                            "<tr><td>184</td><td>2</td><td>17</td></tr>",
                            "<tr><td>186</td><td>2</td><td>17</td></tr>",
                            "<tr><td>152</td><td>2</td><td>17</td></tr>",
                            "<tr><td>196</td><td>2</td><td>17</td></tr>",
                            "<tr><td>91</td><td>2</td><td>17</td></tr>",
                            "<tr><td>85</td><td>2</td><td>17</td></tr>",
                            "<tr><td>98</td><td>2</td><td>17</td></tr>",
                            "<tr><td>100</td><td>2</td><td>17</td></tr>",
                            "<tr><td>103</td><td>2</td><td>17</td></tr>",
                            "<tr><td>114</td><td>2</td><td>17</td></tr>",
                            "<tr><td>129</td><td>2</td><td>17</td></tr>",
                            "<tr><td>5</td><td>2</td><td>17</td></tr>",
                            "<tr><td>11</td><td>2</td><td>17</td></tr>",
                            "<tr><td>21</td><td>2</td><td>17</td></tr>",
                            "<tr><td>50</td><td>2</td><td>17</td></tr>",
                            "<tr><td>63</td><td>2</td><td>17</td></tr>",
                            "<tr><td>57</td><td>2</td><td>17</td></tr>",
                            "<tr><td>72</td><td>2</td><td>17</td></tr>",
                            "<tr><td>73</td><td>2</td><td>17</td></tr>",
                            "<tr><td>24</td><td>4</td><td>18</td></tr>",
                            "<tr><td>30</td><td>3</td><td>19</td></tr>",
                            "<tr><td>31</td><td>3</td><td>19</td></tr>",
                            "<tr><td>14</td><td>3</td><td>19</td></tr>",
                            "<tr><td>71</td><td>3</td><td>19</td></tr>",
                            "<tr><td>135</td><td>3</td><td>19</td></tr>",
                            "<tr><td>162</td><td>3</td><td>19</td></tr>",
                            "<tr><td>179</td><td>3</td><td>19</td></tr>",
                            "<tr><td>180</td><td>2</td><td>20</td></tr>",
                            "<tr><td>158</td><td>2</td><td>20</td></tr>",
                            "<tr><td>166</td><td>2</td><td>20</td></tr>",
                            "<tr><td>136</td><td>2</td><td>20</td></tr>",
                            "<tr><td>151</td><td>2</td><td>20</td></tr>",
                            "<tr><td>101</td><td>2</td><td>20</td></tr>",
                            "<tr><td>68</td><td>2</td><td>20</td></tr>",
                            "<tr><td>75</td><td>2</td><td>20</td></tr>",
                            "<tr><td>76</td><td>2</td><td>20</td></tr>",
                            "<tr><td>23</td><td>2</td><td>20</td></tr>",
                            "<tr><td>37</td><td>2</td><td>20</td></tr>",
                            "<tr><td>41</td><td>3</td><td>21</td></tr>",
                            "<tr><td>25</td><td>3</td><td>21</td></tr>",
                            "<tr><td>116</td><td>3</td><td>21</td></tr>",
                            "<tr><td>142</td><td>3</td><td>21</td></tr>",
                            "<tr><td>167</td><td>3</td><td>21</td></tr>",
                            "<tr><td>192</td><td>2</td><td>22</td></tr>",
                            "<tr><td>102</td><td>2</td><td>22</td></tr>",
                            "<tr><td>105</td><td>2</td><td>22</td></tr>",
                            "<tr><td>108</td><td>2</td><td>22</td></tr>",
                            "<tr><td>26</td><td>2</td><td>22</td></tr>",
                            "<tr><td>56</td><td>2</td><td>22</td></tr>",
                            "<tr><td>53</td><td>2</td><td>22</td></tr>",
                            "<tr><td>47</td><td>2</td><td>22</td></tr>",
                            "<tr><td>60</td><td>3</td><td>23</td></tr>",
                            "<tr><td>159</td><td>3</td><td>23</td></tr>",
                            "<tr><td>199</td><td>3</td><td>23</td></tr>",
                            "<tr><td>209</td><td>3</td><td>23</td></tr>",
                            "<tr><td>201</td><td>3</td><td>23</td></tr>",
                            "<tr><td>202</td><td>3</td><td>23</td></tr>",
                            "<tr><td>203</td><td>3</td><td>23</td></tr>",
                            "<tr><td>204</td><td>3</td><td>23</td></tr>",
                            "<tr><td>205</td><td>3</td><td>23</td></tr>",
                            "<tr><td>212</td><td>3</td><td>23</td></tr>",
                            "<tr><td>213</td><td>3</td><td>23</td></tr>",
                            "<tr><td>214</td><td>3</td><td>23</td></tr>",
                            "<tr><td>216</td><td>3</td><td>23</td></tr>",
                            "<tr><td>218</td><td>3</td><td>23</td></tr>",
                            "<tr><td>220</td><td>3</td><td>23</td></tr>",
                            "<tr><td>221</td><td>3</td><td>23</td></tr>",
                            "<tr><td>226</td><td>3</td><td>23</td></tr>",
                            "<tr><td>228</td><td>3</td><td>23</td></tr>",
                            "<tr><td>278</td><td>3</td><td>23</td></tr>",
                            "<tr><td>280</td><td>3</td><td>23</td></tr>",
                            "<tr><td>270</td><td>3</td><td>23</td></tr>",
                            "<tr><td>271</td><td>3</td><td>23</td></tr>",
                            "<tr><td>272</td><td>3</td><td>23</td></tr>",
                            "<tr><td>274</td><td>3</td><td>23</td></tr>",
                            "<tr><td>289</td><td>3</td><td>23</td></tr>",
                            "<tr><td>286</td><td>3</td><td>23</td></tr>",
                            "<tr><td>287</td><td>3</td><td>23</td></tr>",
                            "<tr><td>294</td><td>3</td><td>23</td></tr>",
                            "<tr><td>233</td><td>3</td><td>23</td></tr>",
                            "<tr><td>234</td><td>3</td><td>23</td></tr>",
                            "<tr><td>235</td><td>3</td><td>23</td></tr>",
                            "<tr><td>236</td><td>3</td><td>23</td></tr>",
                            "<tr><td>230</td><td>3</td><td>23</td></tr>",
                            "<tr><td>238</td><td>3</td><td>23</td></tr>",
                            "<tr><td>240</td><td>3</td><td>23</td></tr>",
                            "<tr><td>255</td><td>3</td><td>23</td></tr>",
                            "<tr><td>256</td><td>3</td><td>23</td></tr>",
                            "<tr><td>250</td><td>3</td><td>23</td></tr>",
                            "<tr><td>251</td><td>3</td><td>23</td></tr>",
                            "<tr><td>252</td><td>3</td><td>23</td></tr>",
                            "<tr><td>264</td><td>3</td><td>23</td></tr>",
                            "<tr><td>265</td><td>3</td><td>23</td></tr>",
                            "<tr><td>266</td><td>2</td><td>24</td></tr>",
                            "<tr><td>267</td><td>2</td><td>24</td></tr>",
                            "<tr><td>268</td><td>2</td><td>24</td></tr>",
                            "<tr><td>269</td><td>2</td><td>24</td></tr>",
                            "<tr><td>253</td><td>2</td><td>24</td></tr>",
                            "<tr><td>254</td><td>2</td><td>24</td></tr>",
                            "<tr><td>257</td><td>2</td><td>24</td></tr>",
                            "<tr><td>258</td><td>2</td><td>24</td></tr>",
                            "<tr><td>259</td><td>2</td><td>24</td></tr>",
                            "<tr><td>260</td><td>2</td><td>24</td></tr>",
                            "<tr><td>241</td><td>2</td><td>24</td></tr>",
                            "<tr><td>242</td><td>2</td><td>24</td></tr>",
                            "<tr><td>243</td><td>2</td><td>24</td></tr>",
                            "<tr><td>244</td><td>2</td><td>24</td></tr>",
                            "<tr><td>245</td><td>2</td><td>24</td></tr>",
                            "<tr><td>246</td><td>2</td><td>24</td></tr>",
                            "<tr><td>247</td><td>2</td><td>24</td></tr>",
                            "<tr><td>248</td><td>2</td><td>24</td></tr>",
                            "<tr><td>249</td><td>2</td><td>24</td></tr>",
                            "<tr><td>239</td><td>2</td><td>24</td></tr>",
                            "<tr><td>231</td><td>2</td><td>24</td></tr>",
                            "<tr><td>232</td><td>2</td><td>24</td></tr>",
                            "<tr><td>237</td><td>2</td><td>24</td></tr>",
                            "<tr><td>288</td><td>2</td><td>24</td></tr>",
                            "<tr><td>290</td><td>2</td><td>24</td></tr>",
                            "<tr><td>291</td><td>2</td><td>24</td></tr>",
                            "<tr><td>292</td><td>2</td><td>24</td></tr>",
                            "<tr><td>293</td><td>2</td><td>24</td></tr>",
                            "<tr><td>275</td><td>2</td><td>24</td></tr>",
                            "<tr><td>276</td><td>2</td><td>24</td></tr>",
                            "<tr><td>277</td><td>2</td><td>24</td></tr>",
                            "<tr><td>273</td><td>2</td><td>24</td></tr>",
                            "<tr><td>281</td><td>2</td><td>24</td></tr>",
                            "<tr><td>282</td><td>2</td><td>24</td></tr>",
                            "<tr><td>283</td><td>2</td><td>24</td></tr>",
                            "<tr><td>284</td><td>2</td><td>24</td></tr>",
                            "<tr><td>285</td><td>2</td><td>24</td></tr>",
                            "<tr><td>279</td><td>2</td><td>24</td></tr>",
                            "<tr><td>263</td><td>2</td><td>24</td></tr>",
                            "<tr><td>229</td><td>2</td><td>24</td></tr>",
                            "<tr><td>227</td><td>2</td><td>24</td></tr>",
                            "<tr><td>222</td><td>2</td><td>24</td></tr>",
                            "<tr><td>223</td><td>2</td><td>24</td></tr>",
                            "<tr><td>224</td><td>2</td><td>24</td></tr>",
                            "<tr><td>225</td><td>2</td><td>24</td></tr>",
                            "<tr><td>219</td><td>2</td><td>24</td></tr>",
                            "<tr><td>217</td><td>2</td><td>24</td></tr>",
                            "<tr><td>215</td><td>2</td><td>24</td></tr>",
                            "<tr><td>206</td><td>2</td><td>24</td></tr>",
                            "<tr><td>207</td><td>2</td><td>24</td></tr>",
                            "<tr><td>208</td><td>2</td><td>24</td></tr>",
                            "<tr><td>210</td><td>2</td><td>24</td></tr>",
                            "<tr><td>211</td><td>2</td><td>24</td></tr>",
                            "<tr><td>200</td><td>2</td><td>24</td></tr>",
                            "<tr><td>194</td><td>2</td><td>24</td></tr>",
                            "<tr><td>65</td><td>2</td><td>24</td></tr>",
                            "<tr><td>32</td><td>2</td><td>24</td></tr>",
                            "<tr><td>147</td><td>2</td><td>24</td></tr>",
                            "<tr><td>125</td><td>2</td><td>24</td></tr>",
                            "<tr><td>261</td><td>1</td><td>25</td></tr>",
                            "<tr><td>262</td><td>1</td><td>25</td></tr>",
                            "</table>"
                        ]
                    }
                }
            ],
            "execution_count": 19
        },
        {
            "cell_type": "code",
            "source": [
                "SELECT SZALLAS_ID, SZALLAS_NEV, csillagok_szama, IIF(CSILLAGOK_SZAMA>=3, 'Igen', 'Nem') AS 'Legalább 3 csillagos_e'\r\n",
                "FROM Szallashely\r\n",
                "WHERE SZALLAS_ID NOT IN (select SZALLAS_FK From szoba WHERE FEROHELY=3)"
            ],
            "metadata": {
                "azdata_cell_guid": "993d1e41-b899-4672-97ea-14f04d19f95e",
                "language": "sql"
            },
            "outputs": [
                {
                    "output_type": "display_data",
                    "data": {
                        "text/html": "(2 rows affected)"
                    },
                    "metadata": {}
                },
                {
                    "output_type": "display_data",
                    "data": {
                        "text/html": "Total execution time: 00:00:00.014"
                    },
                    "metadata": {}
                },
                {
                    "output_type": "execute_result",
                    "metadata": {},
                    "execution_count": 22,
                    "data": {
                        "application/vnd.dataresource+json": {
                            "schema": {
                                "fields": [
                                    {
                                        "name": "SZALLAS_ID"
                                    },
                                    {
                                        "name": "SZALLAS_NEV"
                                    },
                                    {
                                        "name": "csillagok_szama"
                                    },
                                    {
                                        "name": "Legalább 3 csillagos_e"
                                    }
                                ]
                            },
                            "data": [
                                {
                                    "SZALLAS_ID": "19",
                                    "SZALLAS_NEV": "Nyárfás Vendégház",
                                    "csillagok_szama": "0",
                                    "Legalább 3 csillagos_e": "Nem"
                                },
                                {
                                    "SZALLAS_ID": "21",
                                    "SZALLAS_NEV": "Müller Vendégház",
                                    "csillagok_szama": "0",
                                    "Legalább 3 csillagos_e": "Nem"
                                }
                            ]
                        },
                        "text/html": [
                            "<table>",
                            "<tr><th>SZALLAS_ID</th><th>SZALLAS_NEV</th><th>csillagok_szama</th><th>Legalább 3 csillagos_e</th></tr>",
                            "<tr><td>19</td><td>Nyárfás Vendégház</td><td>0</td><td>Nem</td></tr>",
                            "<tr><td>21</td><td>Müller Vendégház</td><td>0</td><td>Nem</td></tr>",
                            "</table>"
                        ]
                    }
                }
            ],
            "execution_count": 22
        }
    ]
}